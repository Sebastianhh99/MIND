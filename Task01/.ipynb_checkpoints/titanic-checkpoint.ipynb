{
 "cells": [
  {
   "cell_type": "markdown",
   "id": "e74476a0-8140-4525-a5bb-809db98db240",
   "metadata": {},
   "source": [
    "# Sebastian Herrera Hernandez"
   ]
  },
  {
   "cell_type": "markdown",
   "id": "49b5a24b-8c23-4eac-b359-b09476adb1fe",
   "metadata": {},
   "source": [
    "## Needs `pandas` and `matplotlib`"
   ]
  },
  {
   "cell_type": "markdown",
   "id": "b747035f-c5df-41ec-a863-e7e3f499daa7",
   "metadata": {},
   "source": [
    "## Imports and Variables"
   ]
  },
  {
   "cell_type": "code",
   "execution_count": 4,
   "id": "30ab4927-12ad-4160-84ab-d45ea309fa05",
   "metadata": {},
   "outputs": [],
   "source": [
    "import pandas as pd\n",
    "data = pd.read_csv(\"titanic.csv\")"
   ]
  },
  {
   "cell_type": "markdown",
   "id": "4f4e0c59-9807-4374-b76c-f211fd66c3b3",
   "metadata": {},
   "source": [
    "## 2. Calcular y mostrar el valor de la media y la mediana de las edades de las personas que viajaban en el barco y sobrevivieron."
   ]
  },
  {
   "cell_type": "code",
   "execution_count": 10,
   "id": "2a3bd13a-1cd5-4098-a829-287b13119db8",
   "metadata": {},
   "outputs": [
    {
     "name": "stdout",
     "output_type": "stream",
     "text": [
      "Mean: 28.343689655172415\n",
      "Median: 28.0\n"
     ]
    }
   ],
   "source": [
    "filter_survived_age = data.loc[data['Survived']==1,'Age']\n",
    "print(\"Mean:\",filter_survived_age.mean())\n",
    "print(\"Median:\",filter_survived_age.median())"
   ]
  },
  {
   "cell_type": "markdown",
   "id": "f0c34b9b-dbde-4872-9b08-e828577a6817",
   "metadata": {},
   "source": [
    "## 3. Mostrar la cantidad de personas que viajaban en el barco en cada una de las tres clases."
   ]
  },
  {
   "cell_type": "code",
   "execution_count": 23,
   "id": "2294d7e7-7b95-4a37-8286-3a4f17be40fc",
   "metadata": {},
   "outputs": [
    {
     "data": {
      "text/plain": [
       "Pclass\n",
       "1    216\n",
       "2    184\n",
       "3    491\n",
       "Name: PassengerId, dtype: int64"
      ]
     },
     "execution_count": 23,
     "metadata": {},
     "output_type": "execute_result"
    }
   ],
   "source": [
    "data.groupby('Pclass').count()['PassengerId']"
   ]
  },
  {
   "cell_type": "markdown",
   "id": "01d844b4-a83b-45a7-9a0b-90185efa32df",
   "metadata": {},
   "source": [
    "## 4. Mostrar la cantidad de personas que viajaban en el barco en cada una de las tres clases dicriminando por sobrevivientes y no sobrevivientes."
   ]
  },
  {
   "cell_type": "code",
   "execution_count": 20,
   "id": "ea3f26de-a3cd-46ee-af14-a24370b4f04c",
   "metadata": {},
   "outputs": [
    {
     "name": "stdout",
     "output_type": "stream",
     "text": [
      "Survived\n",
      ": Pclass\n",
      "1    136\n",
      "2     87\n",
      "3    119\n",
      "Name: PassengerId, dtype: int64\n",
      "Not Survived\n",
      ": Pclass\n",
      "1     80\n",
      "2     97\n",
      "3    372\n",
      "Name: PassengerId, dtype: int64\n"
     ]
    }
   ],
   "source": [
    "print('Survived\\n:',data[data['Survived']==1].groupby('Pclass').count()['PassengerId'])\n",
    "print('Not Survived\\n:',data[data['Survived']==0].groupby('Pclass').count()['PassengerId'])"
   ]
  },
  {
   "cell_type": "markdown",
   "id": "9072e218-9057-4615-9871-af1fbd6bf6da",
   "metadata": {},
   "source": [
    "## 5. Calular y mostrar el valor del tiquete más ecónomico, más costoso y el valor promedio."
   ]
  },
  {
   "cell_type": "code",
   "execution_count": 33,
   "id": "bc468ca5-2d64-4860-844d-deade6a6cbbc",
   "metadata": {},
   "outputs": [
    {
     "name": "stdout",
     "output_type": "stream",
     "text": [
      "Max: 512.3292\n",
      "Min: 0.0\n",
      "Mean: 32.204207968574636\n"
     ]
    }
   ],
   "source": [
    "print('Max:',data['Fare'].max())\n",
    "print(\"Min:\",data['Fare'].min())\n",
    "print(\"Mean:\",data['Fare'].mean())"
   ]
  },
  {
   "cell_type": "markdown",
   "id": "828496eb-3fd0-42bc-b9c2-27dfe712be95",
   "metadata": {},
   "source": [
    "## 6. Realice un diagrama de barras (barplot) que permita visualizar la cantidad de personas por género."
   ]
  },
  {
   "cell_type": "code",
   "execution_count": 24,
   "id": "6e1f605d-71b3-4ca3-9837-91f0a314d2fb",
   "metadata": {},
   "outputs": [
    {
     "data": {
      "text/plain": [
       "<AxesSubplot:xlabel='Sex'>"
      ]
     },
     "execution_count": 24,
     "metadata": {},
     "output_type": "execute_result"
    },
    {
     "data": {
      "image/png": "[encoded data removed]",
      "text/plain": [
       "<Figure size 432x288 with 1 Axes>"
      ]
     },
     "metadata": {
      "needs_background": "light"
     },
     "output_type": "display_data"
    }
   ],
   "source": [
    "data.groupby('Sex').count().plot.bar(y='PassengerId',rot=0)"
   ]
  },
  {
   "cell_type": "markdown",
   "id": "27e58bd2-04ea-45db-94e2-5626a1a3fd12",
   "metadata": {},
   "source": [
    "## 7. Realice un diagrama de barras (barplot) que permita visualizar la cantidad de personas por tipo de tiquete."
   ]
  },
  {
   "cell_type": "code",
   "execution_count": 29,
   "id": "41b80f34-7ee4-4344-87a1-f8ba8450d488",
   "metadata": {},
   "outputs": [
    {
     "data": {
      "text/plain": [
       "<AxesSubplot:xlabel='Pclass'>"
      ]
     },
     "execution_count": 29,
     "metadata": {},
     "output_type": "execute_result"
    },
    {
     "data": {
      "image/png": "[encoded data removed]",
      "text/plain": [
       "<Figure size 432x288 with 1 Axes>"
      ]
     },
     "metadata": {
      "needs_background": "light"
     },
     "output_type": "display_data"
    }
   ],
   "source": [
    "data.groupby('Pclass').count().plot.bar(y=\"PassengerId\",rot=0)"
   ]
  },
  {
   "cell_type": "markdown",
   "id": "36c5b4b5-134d-4381-a8c3-0236d92baf64",
   "metadata": {},
   "source": [
    "## 8. Realice un diagrama de caja (boxplot) con los datos de las edades. ¿Cuál es su interpretación a lo visualizado en el gráfico?"
   ]
  },
  {
   "cell_type": "code",
   "execution_count": 5,
   "id": "c3b9e5f8-09b2-4ed0-bc69-7cf836f5491d",
   "metadata": {},
   "outputs": [
    {
     "data": {
      "text/plain": [
       "<AxesSubplot:>"
      ]
     },
     "execution_count": 5,
     "metadata": {},
     "output_type": "execute_result"
    },
    {
     "data": {
      "image/png": "[encoded data removed]",
      "text/plain": [
       "<Figure size 432x288 with 1 Axes>"
      ]
     },
     "metadata": {
      "needs_background": "light"
     },
     "output_type": "display_data"
    }
   ],
   "source": [
    "data.boxplot(column='Age',vert=False)"
   ]
  },
  {
   "cell_type": "markdown",
   "id": "b94e0db0-af2c-44be-9246-ec99366e2ed5",
   "metadata": {},
   "source": [
    "> De la grafica podemos detallar que tenemos un valor minimo muy cercano a 0 es decir niños recien nacidos o de menos de un año y muchos datos atipicos en las mayores edades es decir que en la infomacion hay varios pasajeros que eran de la tercera edad y estan muy lejos de la media."
   ]
  },
  {
   "cell_type": "markdown",
   "id": "3f450663-b33a-44a6-b0a8-5b84db9c32c8",
   "metadata": {},
   "source": [
    "## 9. Para cada una de las variables muestre el consolidado de la siguiente información: valor mínimo, primer cuartil, promedio, tercer cuartil y valor máximo. Recuerde se requiere para cada variable."
   ]
  },
  {
   "cell_type": "code",
   "execution_count": 2,
   "id": "8665c7ac-1aa4-4e14-903f-1bee760f3b09",
   "metadata": {},
   "outputs": [
    {
     "ename": "NameError",
     "evalue": "name 'data' is not defined",
     "output_type": "error",
     "traceback": [
      "\u001b[1;31m---------------------------------------------------------------------------\u001b[0m",
      "\u001b[1;31mNameError\u001b[0m                                 Traceback (most recent call last)",
      "\u001b[1;32m~\\AppData\\Local\\Temp/ipykernel_3784/1410342684.py\u001b[0m in \u001b[0;36m<module>\u001b[1;34m\u001b[0m\n\u001b[1;32m----> 1\u001b[1;33m \u001b[1;32mfor\u001b[0m \u001b[0mi\u001b[0m \u001b[1;32min\u001b[0m \u001b[0mdata\u001b[0m\u001b[1;33m.\u001b[0m\u001b[0mcolumns\u001b[0m\u001b[1;33m:\u001b[0m\u001b[1;33m\u001b[0m\u001b[1;33m\u001b[0m\u001b[0m\n\u001b[0m\u001b[0;32m      2\u001b[0m     \u001b[0mprint\u001b[0m\u001b[1;33m(\u001b[0m\u001b[0mi\u001b[0m\u001b[1;33m,\u001b[0m\u001b[1;34m\"\\n\"\u001b[0m\u001b[1;33m,\u001b[0m\u001b[0mdata\u001b[0m\u001b[1;33m[\u001b[0m\u001b[0mi\u001b[0m\u001b[1;33m]\u001b[0m\u001b[1;33m.\u001b[0m\u001b[0mdescribe\u001b[0m\u001b[1;33m(\u001b[0m\u001b[1;33m)\u001b[0m\u001b[1;33m)\u001b[0m\u001b[1;33m\u001b[0m\u001b[1;33m\u001b[0m\u001b[0m\n",
      "\u001b[1;31mNameError\u001b[0m: name 'data' is not defined"
     ]
    }
   ],
   "source": [
    "for i in data.columns:\n",
    "    print(i,\"\\n\",data[i].describe())"
   ]
  }
 ],
 "metadata": {
  "kernelspec": {
   "display_name": "Python 3 (ipykernel)",
   "language": "python",
   "name": "python3"
  },
  "language_info": {
   "codemirror_mode": {
    "name": "ipython",
    "version": 3
   },
   "file_extension": ".py",
   "mimetype": "text/x-python",
   "name": "python",
   "nbconvert_exporter": "python",
   "pygments_lexer": "ipython3",
   "version": "3.8.9"
  }
 },
 "nbformat": 4,
 "nbformat_minor": 5
}
